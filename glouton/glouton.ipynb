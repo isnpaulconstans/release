{
 "cells": [
  {
   "cell_type": "markdown",
   "metadata": {
    "deletable": false,
    "editable": false,
    "nbgrader": {
     "cell_type": "markdown",
     "checksum": "bf2956bdf0f1dde47c8c51516abd051e",
     "grade": false,
     "grade_id": "cell-f993ad0ebbb0a7c2",
     "locked": true,
     "schema_version": 3,
     "solution": false,
     "task": false
    }
   },
   "source": [
    "Ceci est un bloc note interractif. Vous pouvez taper du code dans les cellues qui commencent par `Entrée [ ]:` et exécuter ce code en tapant **`<Maj+Entree>`** ou en appuyant sur le bouton <button class=\"btn btn-default\" title=\"Exécuter\"><i class=\"fa-step-forward fa\"></i><span class=\"toolbar-btn-label\">Exécuter</span></button> dans la barre ci-dessus.\n",
    "\n",
    "Vérifier bien que vous avez complété toutes les zones contenant `TAPEZ VOTRE CODE ICI` ou \"VOTRE REPONSE\", ainsi que votre nom et les éventuels membres du groupe ci-dessous:"
   ]
  },
  {
   "cell_type": "code",
   "execution_count": null,
   "metadata": {},
   "outputs": [],
   "source": [
    "NOM = \"\"\n",
    "COLLABORATEURS = \"\""
   ]
  },
  {
   "cell_type": "markdown",
   "metadata": {
    "deletable": false,
    "editable": false,
    "nbgrader": {
     "cell_type": "markdown",
     "checksum": "9c0b2c41f7b3b0732d23c2374002286b",
     "grade": false,
     "grade_id": "cell-b548044e33808cf4",
     "locked": true,
     "schema_version": 3,
     "solution": false,
     "task": false
    }
   },
   "source": [
    "---"
   ]
  },
  {
   "cell_type": "markdown",
   "metadata": {
    "deletable": false,
    "editable": false,
    "nbgrader": {
     "cell_type": "markdown",
     "checksum": "cded7fffc4621421b1052b6592c95941",
     "grade": false,
     "grade_id": "cell-900967f1374e021f",
     "locked": true,
     "schema_version": 3,
     "solution": false,
     "task": false
    }
   },
   "source": [
    "<center><h1>Algorithmes gloutons</h1></center>"
   ]
  },
  {
   "cell_type": "markdown",
   "metadata": {
    "deletable": false,
    "editable": false,
    "nbgrader": {
     "cell_type": "markdown",
     "checksum": "8ba263c7b6dd2a5fadebf2061f73e4eb",
     "grade": false,
     "grade_id": "cell-3fa4c3bf3eaa6235",
     "locked": true,
     "schema_version": 3,
     "solution": false,
     "task": false
    }
   },
   "source": [
    "## Généralités"
   ]
  },
  {
   "cell_type": "markdown",
   "metadata": {
    "deletable": false,
    "editable": false,
    "nbgrader": {
     "cell_type": "markdown",
     "checksum": "fab21062c2d8017619a792e1a4d60d23",
     "grade": false,
     "grade_id": "cell-71bf7829bbdac84c",
     "locked": true,
     "schema_version": 3,
     "solution": false,
     "task": false
    }
   },
   "source": [
    "Optimiser un problème, c'est déterminer les conditions dans lesquelles ce problème présente une caractéristique spécifique. Par exemple, déterminer le minimum ou le maximum d'une fonction est un problème d'optimisation. On peut également citer la répartition  optimale  de  tâches  suivant  des  critères  précis,  le  <a href=\"https://fr.wikipedia.org/wiki/Probl%C3%A8me_du_rendu_de_monnaie\">problème  du  rendu  de  monnaie</a>,  le  <a href=\"https://fr.wikipedia.org/wiki/Probl%C3%A8me_du_sac_%C3%A0_dos\">problème  du  sac  à  dos</a>,  la  recherche d'un  plus  court  chemin  dans  un  graphe,  le  <a href=\"https://fr.wikipedia.org/wiki/Probl%C3%A8me_du_voyageur_de_commerce\">problème  du  voyageur  de  commerce</a>, ... \n",
    "\n",
    "De  nombreuses  techniques  informatiques  sont susceptibles d'apporter une solution exacte ou approchée à ces problèmes. Certaines de ces techniques, comme l'énumération exhaustive de toutes les solutions, ont un coût machine qui les rend souvent peu pertinentes au regard de contraintes extérieures imposées (temps de réponse de la solution imposé, moyens machines limités). Les techniques de <a href=\"https://fr.wikipedia.org/wiki/Programmation_dynamique\">programmation dynamique</a> ou certains algorithmes numériques peuvent apporter une solution.\n",
    "\n",
    "Les algorithmes gloutons constituent une  alternative  dont  le  résultat  n'est  pas  toujours  optimal.  Plus  précisément,  ces algorithmes déterminent une solution en effectuant successivement des choix locaux, jamais remis en cause. Au cours de la construction de la solution, l'algorithme résout une partie du problème puis se focalise ensuite sur le sous-problème restant à résoudre. Une différence essentielle avec la programmation dynamique est que celle-ci peut remettre en cause des solutions déjà établies. Au lieu de se focaliser sur un seul sous-problème, elle explore les solutions de tous les sous-problèmes pour les combiner finalement de manière optimale. \n",
    "Le principal avantage des algorithmes gloutons est leur facilité de mise en œuvre. En outre, dans certaines situations dites canoniques, il arrive qu'ils renvoient la solution optimale d'un problème."
   ]
  },
  {
   "cell_type": "markdown",
   "metadata": {
    "deletable": false,
    "editable": false,
    "nbgrader": {
     "cell_type": "markdown",
     "checksum": "3623997c78a713dd6fe91ab2c95a9d35",
     "grade": false,
     "grade_id": "cell-7bfdabd2c6c57bca",
     "locked": true,
     "schema_version": 3,
     "solution": false,
     "task": false
    }
   },
   "source": [
    "## Rendu de monnaie\n",
    "\n",
    "### Présentation du problème\n",
    "\n",
    "Un  achat  dit  en  espèces  se  traduit  par  un  échange  de  pièces  et  de  billets.  Dans la  suite,  les  pièces  désignent  indifféremment les véritables pièces que les billets.\n",
    "\n",
    "Supposons qu'un achat induise un rendu de 49 euros. Quelles pièces peuvent être rendues ? La réponse, bien qu'évidente, n'est pas unique. Quatre pièces de 10 euros, 1 pièce de 5 euros et deux pièces de 2 euros conviennent. Mais quarante-neuf pièces de 1 euros conviennent également ! Si la question est de rendre la monnaie avec un minimum de pièces, le problème change de nature. Mais la réponse reste simple : c'est la première solution proposée. Toutefois, comment parvient-on à un tel résultat ? Quels choix ont été faits qui optimisent le nombre de pièces rendus ? C'est le problème du rendu de monnaie dont la solution dépend du système de monnaie utilisé.\n",
    "\n",
    "Dans le système monétaire français, considérons pour simplifier que les pièces ont pour valeurs 1, 2, 5, 10, 20, 50, 100 euros (nous nous intéressons seulement aux valeurs entières et oublions l'existence du billet de 500 euros). Rendre 49 euros avec un minimum de pièces est un problème d'optimisation. En pratique, sans s'en rendre compte généralement, tout individu met en œuvre un algorithme glouton. Il choisit d'abord autant de fois que possible la plus grandeur valeur de monnaie contenue dans 49 euros. En l'occurence, il choisit donc quatre fois une pièce de 10 euros. La somme de 9 euros restant à rendre, il choisit une pièce de 5 euros, puis deux pièces de 2 euros.\n",
    "\n",
    "Cette stratégie gagnante pour la somme de 49 euros l'est-elle pour n'importe quelle somme à rendre ? On peut montrer que la réponse est positive pour le système monétaire français. Pour cette raison, un tel système de monnaie est qualifié de canonique. D'autres systèmes ne sont pas canoniques. L'algorithme glouton ne répond alors pas de manière optimale."
   ]
  },
  {
   "cell_type": "markdown",
   "metadata": {
    "deletable": false,
    "editable": false,
    "nbgrader": {
     "cell_type": "markdown",
     "checksum": "ae336a976ccf21339caab58e12c1c6a0",
     "grade": false,
     "grade_id": "cell-64cd8d91bc0ae7c7",
     "locked": true,
     "schema_version": 3,
     "solution": false,
     "task": false
    }
   },
   "source": [
    "><h3 class='fa fa-cogs' style=\"color: darkorange\"> A faire vous-même </h3>\n",
    ">\n",
    ">Imaginons un pays dans lequel les pièces ont pour valeur 1, 7 et 10. Quelle solution propose l'algorithme glouton pour une somme de 14 euros ?"
   ]
  },
  {
   "cell_type": "markdown",
   "metadata": {
    "deletable": false,
    "nbgrader": {
     "cell_type": "markdown",
     "checksum": "6a45a4398e7dc517fadf5dabb50fd405",
     "grade": true,
     "grade_id": "cell-9ecade9c277c49f0",
     "locked": false,
     "points": 2,
     "schema_version": 3,
     "solution": true,
     "task": false
    }
   },
   "source": [
    "VOTRE REPONSE"
   ]
  },
  {
   "cell_type": "markdown",
   "metadata": {
    "deletable": false,
    "editable": false,
    "nbgrader": {
     "cell_type": "markdown",
     "checksum": "aafd8fdc00977caf05c16b22b3555036",
     "grade": false,
     "grade_id": "cell-99280c4dd0f9b501",
     "locked": true,
     "schema_version": 3,
     "solution": false,
     "task": false
    }
   },
   "source": [
    ">Quelle est la solution optimale (c'est à dire avec un minimum de pièces) ?"
   ]
  },
  {
   "cell_type": "markdown",
   "metadata": {
    "deletable": false,
    "nbgrader": {
     "cell_type": "markdown",
     "checksum": "18a0cbbd8a0a9cefe925e9f20d601463",
     "grade": true,
     "grade_id": "cell-a0a3205d799c776d",
     "locked": false,
     "points": 1,
     "schema_version": 3,
     "solution": true,
     "task": false
    }
   },
   "source": [
    "VOTRE REPONSE"
   ]
  },
  {
   "cell_type": "markdown",
   "metadata": {
    "deletable": false,
    "editable": false,
    "nbgrader": {
     "cell_type": "markdown",
     "checksum": "6023995de81b260bc9b311ab093f6a8c",
     "grade": false,
     "grade_id": "cell-2b792e3c462d8ab7",
     "locked": true,
     "schema_version": 3,
     "solution": false,
     "task": false
    }
   },
   "source": [
    "La réponse à cette difficulté passe par la programmation dynamique, thème abordé en spécialité NSI de classe de terminale."
   ]
  },
  {
   "cell_type": "markdown",
   "metadata": {
    "deletable": false,
    "editable": false,
    "nbgrader": {
     "cell_type": "markdown",
     "checksum": "c863b6480a95262b2dc29bf9ccc18d96",
     "grade": false,
     "grade_id": "cell-bee5229ff1685f4f",
     "locked": true,
     "schema_version": 3,
     "solution": false,
     "task": false
    }
   },
   "source": [
    "### Un algorithme glouton\n",
    "\n",
    "Considérons un ensemble de $n$ pièces de monnaie de valeurs : $$v_1 < v_2 < \\dots < v_n$$ avec $v_1=1$. On peut noter le système de pièces : $$S_n=\\{v_1, v_2, \\dots, , v_n\\}$$\n",
    "\n",
    "Désignons par $s$ la somme à rendre avec le minimum de pièces de $S_n$. L'algorithme glouton sélectionne la plus grande valeur $v_n$ de $S_n$ et la compare à $s$. \n",
    "* Si $v_n>s$, la pièce de valeur $v_n$ ne peut pas être utilisée. On reprend l'algorithme avec la même valeur de $s$ et le système de pièces $S_{n-1}$.\n",
    "* Si $v_n \\leqslant s$, la pièce $v_n$ peut être utilisée une première fois. Ce qui fait une première pièce à comptabiliser, de valeur $v_n$, la somme restant à rendre étant alors $s-v_n$. L'algorithme continue donc avec la même système de pièces $S_n$ et cette nouvelle somme à rendre $s-v_n$.\n",
    "\n",
    "L'algorithme est ainsi répété tant que la somme à rendre n'est pas nulle.\n",
    "\n",
    "**Remarque :** Il s'agit effectivement d'un algorithme glouton, la plus grande valeur de pièce étant systématiquement choisie si sa valeur est inférieure à la somme à rendre. Ce choix ne garantit en rien l'optimalité globale de la solution. Le choix fait est considéré comme pertinent et permet d'avancer plus avant dans le calcul. Toutefois, comme nous l'écrivions plus haut, si le système monétaire est canonique, la solution est optimale."
   ]
  },
  {
   "cell_type": "markdown",
   "metadata": {
    "deletable": false,
    "editable": false,
    "nbgrader": {
     "cell_type": "markdown",
     "checksum": "9337f34a6f28679f1726c6e4c62ae64c",
     "grade": false,
     "grade_id": "cell-6bca41dc09bb3bc4",
     "locked": true,
     "schema_version": 3,
     "solution": false,
     "task": false
    }
   },
   "source": [
    "### Codage en Python\n"
   ]
  },
  {
   "cell_type": "code",
   "execution_count": null,
   "metadata": {
    "deletable": false,
    "nbgrader": {
     "cell_type": "code",
     "checksum": "73c9322bd5f014ae2d740a2dbce0513f",
     "grade": false,
     "grade_id": "cell-d188aae9f4e75519",
     "locked": false,
     "schema_version": 3,
     "solution": true,
     "task": false
    }
   },
   "outputs": [],
   "source": [
    "def pieces_a_rendre(somme_a_rendre, systeme_monnaie):\n",
    "    \"\"\"Renvoie la liste des pièces choisies pour rendre la somme `somme_a_rendre`.\n",
    "    `systeme_monnaie` est la liste des pièces du système de monnaie utilisé, triée par valeur croissante.\"\"\"\n",
    "    # liste des pièces à rendre (au début une liste vide)\n",
    "    # TAPEZ VOTRE CODE ICI\n",
    "    # indice de la première pièce (celle de plus grande valeur) à comparer à la somme à rendre\n",
    "    # TAPEZ VOTRE CODE ICI\n",
    "    # boucle suivant l'algorithme décrit ci-dessus\n",
    "    # TAPEZ VOTRE CODE ICI\n",
    "    return lst_pieces"
   ]
  },
  {
   "cell_type": "code",
   "execution_count": null,
   "metadata": {
    "deletable": false,
    "editable": false,
    "nbgrader": {
     "cell_type": "code",
     "checksum": "848c1c4339f8ce3fde657f19c0b22a40",
     "grade": true,
     "grade_id": "cell-a3fc728a2f5d7853",
     "locked": true,
     "points": 5,
     "schema_version": 3,
     "solution": false,
     "task": false
    }
   },
   "outputs": [],
   "source": [
    "assert pieces_a_rendre(49, [1, 2, 5, 10, 20, 50, 100]) == [20, 20, 5, 2, 2]\n",
    "assert pieces_a_rendre(0, [1, 2, 5, 10, 20, 50, 100]) == []\n",
    "assert pieces_a_rendre(14, [1, 7, 10]) == [10, 1, 1, 1, 1]"
   ]
  },
  {
   "cell_type": "markdown",
   "metadata": {
    "deletable": false,
    "editable": false,
    "nbgrader": {
     "cell_type": "markdown",
     "checksum": "605d5141b292b95a0212048dad9640bf",
     "grade": false,
     "grade_id": "cell-7e8d2510c62aed83",
     "locked": true,
     "schema_version": 3,
     "solution": false,
     "task": false
    }
   },
   "source": [
    "## Un problème d'organisation\n",
    "\n",
    "Des conférenciers sont invités à présenter leurs exposés dans une salle. Mais leurs disponibilités ne leur permettent d'intervenir qu'à  des  horaires  bien  définis. Le  problème  est de construire  un  planning  d'occupation  de  la  salle  avec le plus grand nombre possible de conférenciers.\n",
    "\n",
    "Désignons par $n$, entier  naturel  non  nul,  le  nombre  de  conférenciers.  Chacun  d'eux,  identifié  par  une  lettre $C_i$,  où $i$ est  un  entier compris  entre  $1$  et $n$,  est  associé  à  un  intervalle  temporel $[d_i, f_i[$ où $d_i$ et $f_i$ désignent  respectivement  l'heure  de  début et  l'heure  de  fin  de  l'intervention.  Afin  de  dégager  une  tactique  de  résolution  du  problème,  commençons  par  analyser  plusieurs situations.\n",
    "\n",
    "### Premières analyses\n",
    "\n",
    "#### Situation 1\n",
    "\n",
    "Quatre conférenciers peuvent intervenir aux intervalles temporels suivants :\n",
    "\n",
    "$$ C_1 : [3;4[ \\quad C_2 : [0;1[ \\quad C_3[2;3[ \\quad C_4 : [1,2[$$\n",
    "\n",
    "Pour mieux visualiser la situation, on se donne la fonction suivante :"
   ]
  },
  {
   "cell_type": "code",
   "execution_count": null,
   "metadata": {
    "deletable": false,
    "editable": false,
    "nbgrader": {
     "cell_type": "code",
     "checksum": "8fa0a1e97440c40ca21691a6b6187a2f",
     "grade": false,
     "grade_id": "cell-5ae44d0fd9dbb4a0",
     "locked": true,
     "schema_version": 3,
     "solution": false,
     "task": false
    }
   },
   "outputs": [],
   "source": [
    "import matplotlib.pyplot as plt\n",
    "def disp_interventions(lst_interventions):\n",
    "    \"\"\"Affiche les intervalles correspondants aux interventions possibles des conférenciers.\n",
    "    `lst_interventions` est une liste de triplets de la forme (deb, fin, nom) indiquant que le\n",
    "        conférencier `nom` propose une intervention sur l'intervalle de temps [deb; fin[.\"\"\"\n",
    "    hauteur = 1\n",
    "    fin_prec = -1\n",
    "    for deb, fin, nom in lst_interventions:\n",
    "        if deb < fin_prec:\n",
    "            hauteur += 1\n",
    "        fin_prec = fin\n",
    "        inter, = plt.plot([deb, fin], [hauteur]*2, 'o-')\n",
    "        plt.text((deb+fin)/2, hauteur+0.2, nom, color=inter.get_color(), ha='center')\n",
    "    plt.ylim(0, hauteur+1)\n",
    "    plt.yticks([])\n",
    "    plt.grid()"
   ]
  },
  {
   "cell_type": "markdown",
   "metadata": {
    "deletable": false,
    "editable": false,
    "nbgrader": {
     "cell_type": "markdown",
     "checksum": "cfdcf9b2ab59083af0630037b71a91ec",
     "grade": false,
     "grade_id": "cell-8d50a413df4c0483",
     "locked": true,
     "schema_version": 3,
     "solution": false,
     "task": false
    }
   },
   "source": [
    "La situation 1 peut alors être visualisée ainsi :"
   ]
  },
  {
   "cell_type": "code",
   "execution_count": null,
   "metadata": {
    "deletable": false,
    "editable": false,
    "nbgrader": {
     "cell_type": "code",
     "checksum": "7ba6e6232655c0f4e1d97cc3e27e462a",
     "grade": false,
     "grade_id": "cell-3ee5f91cd15abda6",
     "locked": true,
     "schema_version": 3,
     "solution": false,
     "task": false
    }
   },
   "outputs": [],
   "source": [
    "lst_interventions1 = [[3, 4, '$C_1$'], [0, 1, '$C_2$'], [2, 3, '$C_3$'], [1, 2, '$C_4$']]\n",
    "disp_interventions(lst_interventions1)"
   ]
  },
  {
   "cell_type": "markdown",
   "metadata": {
    "deletable": false,
    "editable": false,
    "nbgrader": {
     "cell_type": "markdown",
     "checksum": "456e9e0ace3c36f08a243421d01212dd",
     "grade": false,
     "grade_id": "cell-d5879467cd05bb48",
     "locked": true,
     "schema_version": 3,
     "solution": false,
     "task": false
    }
   },
   "source": [
    "Une telle situation est simple puisque tous les conférenciers peuvent intervenir sur des créneaux horaires disjoints. Le planning est donc défini par la suite $[C_2, C_4, C_3, C_1]$ de conférenciers.\n",
    "\n",
    "#### Situation 2\n",
    "\n",
    "On considère encore quatre conférenciers pouvant intervenir aux intervalles temporels suivants :\n",
    "\n",
    "$$ C_1 : [3;8[ \\quad C_2 : [1;2[ \\quad C_3[0;4[ \\quad C_4 : [5,7[$$\n",
    "\n",
    "><h3 class='fa fa-cogs' style=\"color: darkorange\"> A faire vous-même </h3>\n",
    ">\n",
    ">Définir une liste `lst_interventions2` correspondant à cette situation, et afficher le graphique correspondant :"
   ]
  },
  {
   "cell_type": "code",
   "execution_count": null,
   "metadata": {
    "deletable": false,
    "nbgrader": {
     "cell_type": "code",
     "checksum": "6bb60446087ae0c078ac14067cea5d59",
     "grade": true,
     "grade_id": "cell-deef9fa081245879",
     "locked": false,
     "points": 2,
     "schema_version": 3,
     "solution": true,
     "task": false
    }
   },
   "outputs": [],
   "source": [
    "# TAPEZ VOTRE CODE ICI"
   ]
  },
  {
   "cell_type": "markdown",
   "metadata": {
    "deletable": false,
    "editable": false,
    "nbgrader": {
     "cell_type": "markdown",
     "checksum": "becd462b3dd1d9b3fd10e74cdb203f24",
     "grade": false,
     "grade_id": "cell-ec6e09f31c35b3fb",
     "locked": true,
     "schema_version": 3,
     "solution": false,
     "task": false
    }
   },
   "source": [
    "Cette fois ci, les intervalles ne sont pas disjoints (on dira que les intervalles, ou les conférenciers, ne sont pas *compatibles*) et tous les conférenciers ne pourront donc pas intervenir : il va falloir faire un choix. Plusieurs planning peuvent être définis. Par exemple :\n",
    "\n",
    "$$[C_2;C_1] \\quad \\text{ou} \\quad [C_2;C_4] \\quad \\text{ou} \\quad [C_3;C_4] \\quad \\text{ou} \\quad [C_3] \\quad \\text{ou} \\quad \\dots$$\n",
    "\n",
    "Seules les trois premières solutions sont retenues puisque la dernière ne maximise pas le nombre de conférenciers choisis.\n",
    "\n",
    "Pour faire ce choix, nous allons esayer de mettre en place une *stratégie gloutonne*. Celle-ci va faire un premier choix de conférencier en suivant un critère à préciser. Ce choix ne sera jamais remis en question et la même stratégie sera appliquée pour trouver les conférenciers suivants.\n",
    "\n",
    "Pour arriver à ce résultat, il va falloir commencer par trier les conférenciers. Deux idées semblent possibles : trier par heure de début ou par heure de fin. Le premier conférencier choisi sera alors le premier de la liste. On pourra ensuite parcourir la liste dans l'ordre, en ajoutant à chaque fois un conférencier s'il est compatible avec le dernier ajouté.\n",
    "\n",
    "Par exemple, le tri des conférenciers par ordre croissant d'heure de début donne $[C_3;C_2;C_1;C_4]$.\n",
    "  * On commence par choisir $C_3$;\n",
    "  * $C_2$ n'est pas compatible avec $C_3$ : on le passe;\n",
    "  * $C_1$ n'est pas compatible avec $C_3$ : on le passe;\n",
    "  * $C_4$ est compatible avec $C_3$ : on le prend.\n",
    "\n",
    "Le planning obtenu est $[C_3;C_4]$.\n",
    "\n",
    "\n",
    "><h3 class='fa fa-cogs' style=\"color: darkorange\"> A faire vous-même </h3>\n",
    ">\n",
    ">Donner le planning obtenu en triant les conférenciers par heure de fin croissante."
   ]
  },
  {
   "cell_type": "markdown",
   "metadata": {
    "deletable": false,
    "nbgrader": {
     "cell_type": "markdown",
     "checksum": "b7c8bb94351eaa0511569b32d6927c77",
     "grade": true,
     "grade_id": "cell-2e81ab78aab2150c",
     "locked": false,
     "points": 2,
     "schema_version": 3,
     "solution": true,
     "task": false
    }
   },
   "source": [
    "VOTRE REPONSE"
   ]
  },
  {
   "cell_type": "markdown",
   "metadata": {
    "deletable": false,
    "editable": false,
    "nbgrader": {
     "cell_type": "markdown",
     "checksum": "2ef58082ad37a82bf83c2a349b653bf0",
     "grade": false,
     "grade_id": "cell-58f82714107c5995",
     "locked": true,
     "schema_version": 3,
     "solution": false,
     "task": false
    }
   },
   "source": [
    "#### Situation 3\n",
    "\n",
    "On considère à présent trois conférenciers pouvant intervenir aux intervalles temporels suivants :\n",
    "\n",
    "$$ C_1 : [0;3[ \\quad C_2 : [1;2[ \\quad C_3[2;3[$$\n",
    "\n",
    "><h3 class='fa fa-cogs' style=\"color: darkorange\"> A faire vous-même </h3>\n",
    ">\n",
    ">Définir une liste `lst_interventions3` correspondant à cette situation, et afficher le graphique correspondant :"
   ]
  },
  {
   "cell_type": "code",
   "execution_count": null,
   "metadata": {
    "deletable": false,
    "nbgrader": {
     "cell_type": "code",
     "checksum": "4f999fca11834fbadcb60d256393820b",
     "grade": true,
     "grade_id": "cell-8ae96fdf7cec9ed4",
     "locked": false,
     "points": 1,
     "schema_version": 3,
     "solution": true,
     "task": false
    }
   },
   "outputs": [],
   "source": [
    "# TAPEZ VOTRE CODE ICI"
   ]
  },
  {
   "cell_type": "markdown",
   "metadata": {
    "deletable": false,
    "editable": false,
    "nbgrader": {
     "cell_type": "markdown",
     "checksum": "ad7d98ecacb1fd51d6db67c34ecb9990",
     "grade": false,
     "grade_id": "cell-3b3a55a459739257",
     "locked": true,
     "schema_version": 3,
     "solution": false,
     "task": false
    }
   },
   "source": [
    ">Donner les plannings obtenus en appliquant l'algorithme précédent avec chacun des tris possibles. Que peut-on en conclure concernant le tri par ordre d'heure de début ?"
   ]
  },
  {
   "cell_type": "markdown",
   "metadata": {
    "deletable": false,
    "nbgrader": {
     "cell_type": "markdown",
     "checksum": "316e5a142fc51c7a327d6a8858d43318",
     "grade": true,
     "grade_id": "cell-c15e3d0975e1f098",
     "locked": false,
     "points": 3,
     "schema_version": 3,
     "solution": true,
     "task": false
    }
   },
   "source": [
    "VOTRE REPONSE"
   ]
  },
  {
   "cell_type": "markdown",
   "metadata": {
    "deletable": false,
    "editable": false,
    "nbgrader": {
     "cell_type": "markdown",
     "checksum": "d86196947852d6342f5fa0aba1de5c72",
     "grade": false,
     "grade_id": "cell-9c7e1d368e999d10",
     "locked": true,
     "schema_version": 3,
     "solution": false,
     "task": false
    }
   },
   "source": [
    "On pourrait démontrer (mais ça sort du cadre de ce cours) que l'algorithme obtenu en commençant par trier par ordre croissant d'heure de fin donne toujours une solution optimale. "
   ]
  },
  {
   "cell_type": "markdown",
   "metadata": {
    "deletable": false,
    "editable": false,
    "nbgrader": {
     "cell_type": "markdown",
     "checksum": "8775a0bbf0c829661b2e82c2472da241",
     "grade": false,
     "grade_id": "cell-b83ed7f766277df2",
     "locked": true,
     "schema_version": 3,
     "solution": false,
     "task": false
    }
   },
   "source": [
    "### Le tri par heure de fin croissante\n",
    "\n",
    "Tout d'abord, il va falloir trier la liste des interventions par ordre croissant d'heure de fin. Or la fonction `sorted` appliquée à une liste de triplets `[deb, fin, nom]` va trier d'abord suivant les heures de début. On va donc utiliser un paramètre optionnel de cette fonction, le paramètre `key`, correspondant à une fonction à appliquer à chaque tuple de la liste avant le tri. Ici, on ne s'intéresse qu'au deuxième élément du tuple, donc on veut une fonction qui à une intervention `inter` (c'est à dire un triplet) associe l'heure de fin (c'est à dire son deuxième élément : `inter[1]`) :"
   ]
  },
  {
   "cell_type": "code",
   "execution_count": null,
   "metadata": {
    "deletable": false,
    "editable": false,
    "nbgrader": {
     "cell_type": "code",
     "checksum": "a96547a85f912818fb45aeb06246d0eb",
     "grade": false,
     "grade_id": "cell-fde8eb239f38fc14",
     "locked": true,
     "schema_version": 3,
     "solution": false,
     "task": false
    }
   },
   "outputs": [],
   "source": [
    "print(\"non trié : \", lst_interventions1)\n",
    "print(\"    trié : \", sorted(lst_interventions1, key=lambda inter:inter[1]))\n",
    "print(\"non trié : \", lst_interventions2)\n",
    "print(\"    trié : \", sorted(lst_interventions2, key=lambda inter:inter[1]))\n",
    "print(\"non trié : \", lst_interventions3)\n",
    "print(\"    trié : \", sorted(lst_interventions3, key=lambda inter:inter[1]))"
   ]
  },
  {
   "cell_type": "markdown",
   "metadata": {
    "deletable": false,
    "editable": false,
    "nbgrader": {
     "cell_type": "markdown",
     "checksum": "fc18e355fde36853eeb231413e38e284",
     "grade": false,
     "grade_id": "cell-74b6ae9ccc709c48",
     "locked": true,
     "schema_version": 3,
     "solution": false,
     "task": false
    }
   },
   "source": [
    "**Remarque :** Ce problème de tri est un peu compliqué. Si ça ne vous paraît pas entièrement clair, ce n'est pas très grave. Vous pouvez vous contenter de retenir que pour obtenir une liste `lst_triee` triée par heures de fin croissantes en partant d'une liste `lst`, on doit écrire `lst_triee = sorted(lst, key=lambda inter:inter[1])`\n",
    "\n",
    "### Un exemple plus complet à la main\n",
    "\n",
    "Considérons la situation ci dessous :"
   ]
  },
  {
   "cell_type": "code",
   "execution_count": null,
   "metadata": {
    "deletable": false,
    "editable": false,
    "nbgrader": {
     "cell_type": "code",
     "checksum": "41a8d3f730098ad0b5d8110a769f8f8c",
     "grade": false,
     "grade_id": "cell-a0bd3e0180745da4",
     "locked": true,
     "schema_version": 3,
     "solution": false,
     "task": false
    }
   },
   "outputs": [],
   "source": [
    "lst_interventions4 = [[0,7,'C1'],[2,5,'C2'],[6,8,'C3'],[1,2,'C4'],[5,6,'C5'],[0,2,'C6'],[4,7,'C7'],[0,1,'C8'],[3,6,'C9'],[1,3,'C10'],[4,5,'C11'],[6,8,'C12'],[0,2,'C13'],[5,7,'C14'],[1,4,'C15']]\n",
    "disp_interventions(lst_interventions4)"
   ]
  },
  {
   "cell_type": "markdown",
   "metadata": {
    "deletable": false,
    "editable": false,
    "nbgrader": {
     "cell_type": "markdown",
     "checksum": "697193b032714bdf45e5bb22775f32fa",
     "grade": false,
     "grade_id": "cell-d9ce6b3b367bd16e",
     "locked": true,
     "schema_version": 3,
     "solution": false,
     "task": false
    }
   },
   "source": [
    "><h3 class='fa fa-cogs' style=\"color: darkorange\"> A faire vous-même </h3>\n",
    ">\n",
    ">Définir une liste `lst_triee` correspondant au tri de cette liste par heure de fin croissante :"
   ]
  },
  {
   "cell_type": "code",
   "execution_count": null,
   "metadata": {
    "deletable": false,
    "nbgrader": {
     "cell_type": "code",
     "checksum": "3668b647387bdca9bd50df57d726b4c3",
     "grade": false,
     "grade_id": "cell-8a8fe42343422122",
     "locked": false,
     "schema_version": 3,
     "solution": true,
     "task": false
    }
   },
   "outputs": [],
   "source": [
    "# TAPEZ VOTRE CODE ICI"
   ]
  },
  {
   "cell_type": "code",
   "execution_count": null,
   "metadata": {
    "deletable": false,
    "editable": false,
    "nbgrader": {
     "cell_type": "code",
     "checksum": "e6485655388388ad3b4ad34769858ef0",
     "grade": true,
     "grade_id": "cell-c1738a4098b981ec",
     "locked": true,
     "points": 1,
     "schema_version": 3,
     "solution": false,
     "task": false
    }
   },
   "outputs": [],
   "source": [
    "assert list(map(lambda inter:inter[2], lst_triee)) == ['C8', 'C4', 'C6', 'C13', 'C10', 'C15', 'C2', 'C11', 'C5', 'C9', 'C1', 'C7', 'C14', 'C3', 'C12']\n",
    "disp_interventions(lst_triee)"
   ]
  },
  {
   "cell_type": "markdown",
   "metadata": {
    "deletable": false,
    "editable": false,
    "nbgrader": {
     "cell_type": "markdown",
     "checksum": "8f3e658b37680dee35055cc10cb79e7a",
     "grade": false,
     "grade_id": "cell-93838d35f1e6ff20",
     "locked": true,
     "schema_version": 3,
     "solution": false,
     "task": false
    }
   },
   "source": [
    "><h3 class='fa fa-cogs' style=\"color: darkorange\"> A faire vous-même </h3>\n",
    ">\n",
    ">Appliquer pas à pas l'algorithme pour déterminer un planning :"
   ]
  },
  {
   "cell_type": "markdown",
   "metadata": {
    "deletable": false,
    "nbgrader": {
     "cell_type": "markdown",
     "checksum": "b3779788b527941e53fb95edb041beb5",
     "grade": true,
     "grade_id": "cell-03f07337f1c3c653",
     "locked": false,
     "points": 4,
     "schema_version": 3,
     "solution": true,
     "task": false
    }
   },
   "source": [
    "VOTRE REPONSE"
   ]
  },
  {
   "cell_type": "markdown",
   "metadata": {
    "deletable": false,
    "editable": false,
    "nbgrader": {
     "cell_type": "markdown",
     "checksum": "e6d2383722191b38312f087069915afa",
     "grade": false,
     "grade_id": "cell-226ca86eca72d0e6",
     "locked": true,
     "schema_version": 3,
     "solution": false,
     "task": false
    }
   },
   "source": [
    "### Codage en Python\n",
    "\n",
    "><h3 class='fa fa-cogs' style=\"color: darkorange\"> A faire vous-même </h3>\n",
    ">\n",
    ">Il ne reste plus qu'à écrire une fonction en Python correspondant à cet algorithme :"
   ]
  },
  {
   "cell_type": "code",
   "execution_count": null,
   "metadata": {
    "deletable": false,
    "nbgrader": {
     "cell_type": "code",
     "checksum": "502e159fd4da8970770792cf867ab1fa",
     "grade": false,
     "grade_id": "cell-64d324c18057990c",
     "locked": false,
     "schema_version": 3,
     "solution": true,
     "task": false
    }
   },
   "outputs": [],
   "source": [
    "def calc_planning(lst_interventions):\n",
    "    \"\"\"Renvoie un planning optimal, c'est à dire une liste d'interventions de conférenciers de longueur\n",
    "    maximum correspondant à la liste d'interventions `lst_interventions` donnée.\"\"\"\n",
    "    # tri des intervalles par valeurs croissantes d'heures de fin\n",
    "    # TAPEZ VOTRE CODE ICI\n",
    "    # Initialisation de la liste `lst_planning` (vide au début)\n",
    "    # TAPEZ VOTRE CODE ICI\n",
    "    # heure de fin de la dernière intervention ajoutée (0 au début)\n",
    "    # TAPEZ VOTRE CODE ICI\n",
    "    # Parcours des interventions, en ajoutant celles compatibles avec la dernière ajoutée\n",
    "    # TAPEZ VOTRE CODE ICI\n",
    "    return lst_planning"
   ]
  },
  {
   "cell_type": "code",
   "execution_count": null,
   "metadata": {
    "deletable": false,
    "editable": false,
    "nbgrader": {
     "cell_type": "code",
     "checksum": "abeedca55785db008384a67a89d7f1ec",
     "grade": true,
     "grade_id": "cell-04fc71063428846b",
     "locked": true,
     "points": 5,
     "schema_version": 3,
     "solution": false,
     "task": false
    }
   },
   "outputs": [],
   "source": [
    "assert calc_planning(lst_interventions1) == [[0, 1, '$C_2$'], [1, 2, '$C_4$'], [2, 3, '$C_3$'], [3, 4, '$C_1$']]\n",
    "assert calc_planning(lst_interventions2) == [[1, 2, '$C_2$'], [5, 7, '$C_4$']]\n",
    "assert calc_planning(lst_interventions3) == [[1, 2, '$C_2$'], [2, 3, '$C_3$']]\n",
    "assert calc_planning(lst_interventions4) == [[0, 1, 'C8'], [1, 2, 'C4'], [2, 5, 'C2'], [5, 6, 'C5'], [6, 8, 'C3']]"
   ]
  },
  {
   "cell_type": "markdown",
   "metadata": {
    "deletable": false,
    "editable": false,
    "nbgrader": {
     "cell_type": "markdown",
     "checksum": "6de54462dce8fb427f63e2a732642b23",
     "grade": false,
     "grade_id": "cell-8ba659d79f4015f3",
     "locked": true,
     "schema_version": 3,
     "solution": false,
     "task": false
    }
   },
   "source": [
    "Vous pouvez tester votre fonction avec une liste d'interventions tirée aléatoirement :"
   ]
  },
  {
   "cell_type": "code",
   "execution_count": null,
   "metadata": {
    "deletable": false,
    "editable": false,
    "nbgrader": {
     "cell_type": "code",
     "checksum": "d67b4f180502a3ff2b5099e3e3fd62a2",
     "grade": false,
     "grade_id": "cell-527ee0e2d1614634",
     "locked": true,
     "schema_version": 3,
     "solution": false,
     "task": false
    }
   },
   "outputs": [],
   "source": [
    "from random import randint\n",
    "def inter_alea(nb_inter, debut, fin, duree_max):\n",
    "    \"\"\"Renvoie une liste de `nb_inter` interventions étalées entre les instants `debut` et `fin`,\n",
    "    chaque intervention durant au maximum `duree_max`.\"\"\"\n",
    "    lst_inter = []\n",
    "    for i_inter in range(nb_inter):\n",
    "        duree = randint(1, duree_max)\n",
    "        deb = randint(debut, fin - duree)\n",
    "        nom = '$C_{' + str(i_inter + 1) +'}$'\n",
    "        lst_inter.append([deb, deb + duree, nom])\n",
    "    return lst_inter"
   ]
  },
  {
   "cell_type": "code",
   "execution_count": null,
   "metadata": {},
   "outputs": [],
   "source": [
    "lst_interventions = inter_alea(25, 0, 15, 3)\n",
    "disp_interventions(lst_interventions)"
   ]
  },
  {
   "cell_type": "code",
   "execution_count": null,
   "metadata": {},
   "outputs": [],
   "source": [
    "planning = calc_planning(lst_interventions)\n",
    "disp_interventions(planning)"
   ]
  }
 ],
 "metadata": {
  "kernelspec": {
   "display_name": "Python 3",
   "language": "python",
   "name": "python3"
  },
  "language_info": {
   "codemirror_mode": {
    "name": "ipython",
    "version": 3
   },
   "file_extension": ".py",
   "mimetype": "text/x-python",
   "name": "python",
   "nbconvert_exporter": "python",
   "pygments_lexer": "ipython3",
   "version": "3.6.9"
  }
 },
 "nbformat": 4,
 "nbformat_minor": 4
}
