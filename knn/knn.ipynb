{
 "cells": [
  {
   "cell_type": "markdown",
   "metadata": {},
   "source": [
    "Ceci est un bloc note interractif. Vous pouvez taper du code dans les cellues qui commencent par `In [ ]:` et exécuter ce code en tapant **`<Maj+Entree>`** ou en appuyant sur le bouton <button class=\"btn btn-default\" title=\"Run\"><i class=\"fa-step-forward fa\"></i><span class=\"toolbar-btn-label\">Exécuter</span></button> dans la barre ci-dessus.\n",
    "\n",
    "Vérifier bien que vous avez complété toutes les zones contenant `TAPEZ VOTRE CODE ICI` ou \"VOTRE REPONSE\", ainsi que votre nom et les éventuels membres du groupe ci-dessous:"
   ]
  },
  {
   "cell_type": "code",
   "execution_count": null,
   "metadata": {},
   "outputs": [],
   "source": [
    "NOM = \"\"\n",
    "COLLABORATEURS = \"\""
   ]
  },
  {
   "cell_type": "markdown",
   "metadata": {},
   "source": [
    "---"
   ]
  },
  {
   "cell_type": "markdown",
   "metadata": {
    "deletable": false,
    "editable": false,
    "nbgrader": {
     "cell_type": "markdown",
     "checksum": "70f7978ccba80242d648ba6fc75160f9",
     "grade": false,
     "grade_id": "cell-71a1a5603e8386e2",
     "locked": true,
     "schema_version": 3,
     "solution": false,
     "task": false
    }
   },
   "source": [
    "<h1 style=\"text-align:center\">Algorithme des $k$ plus proches voisins</h1>"
   ]
  },
  {
   "cell_type": "markdown",
   "metadata": {
    "deletable": false,
    "editable": false,
    "nbgrader": {
     "cell_type": "markdown",
     "checksum": "287f40630490f83e6721d2f1f3717b1b",
     "grade": false,
     "grade_id": "cell-ab3820b1edda95ce",
     "locked": true,
     "schema_version": 3,
     "solution": false,
     "task": false
    }
   },
   "source": [
    "<h2>Introduction</h2>\n",
    "\n",
    "L’algorithme des $k$ plus proches voisins ($k$ nearest neightboors : knn) appartient à la famille des algorithmes d'apprentissage automatique (machine learning). L'idée de ces algorithmes est d'utiliser un grand nombre de données afin d'&laquo;apprendre&raquo; à la machine à résoudre un certain type de problème. Cette idée d'apprentissage automatique ne date pas d'hier, puisque le terme de machine learning a été utilisé pour la première fois par l'informaticien américain Arthur Samuel en 1959. Les algorithmes d'apprentissage automatique ont connu un fort regain d'intérêt au début des années 2000 notamment grâce à la quantité de données disponibles sur internet (on parle de *big data*). \n",
    "\n",
    "De nombreuses sociétés (exemple les GAFAM) utilisent les données concernant leurs utilisateurs afin de \"nourrir\" des algorithmes de machine learning qui permettront à ces sociétés d'en savoir toujours plus sur nous et ainsi de mieux cerner nos \"besoins\" en termes de consommation.\n",
    "\n",
    "D'un point de vue théorique, l'algorithme des $k$ plus proches voisins est un algorithme d'apprentissage supervisé : à partir d'un ensemble E de données labellisées, il sera possible de classer (déterminer le label) d'une nouvelle donnée (donnée n'appartenant pas à E)."
   ]
  },
  {
   "cell_type": "markdown",
   "metadata": {
    "deletable": false,
    "editable": false,
    "nbgrader": {
     "cell_type": "markdown",
     "checksum": "83cd725c381c6068daee4eb2bf1572b4",
     "grade": false,
     "grade_id": "cell-51a8490a7c3c910f",
     "locked": true,
     "schema_version": 3,
     "solution": false,
     "task": false
    }
   },
   "source": [
    "<h2>Présentation de l'exemple</h2>\n",
    "\n",
    "L'exemple classique que nous allons traiter est celui des données \"iris de Fisher\". En 1936, Edgar Anderson a collecté des données sur 3 espèces d'iris : \"iris setosa\", \"iris virginica\" et \"iris versicolor\".\n",
    "\n",
    "<table>\n",
    "  <tr>\n",
    "    <td style=\"text-align:center\"><img alt=\"iris_setosa\" src=\"iris_setosa.jpeg\" style=\"width:200px; height:200px\"></td>\n",
    "    <td style=\"text-align:center\"><img alt=\"iris_versicolor\" src=\"iris_versicolor.jpeg\" style=\"width:200px; height:200px\"></td>\n",
    "    <td style=\"text-align:center\"><img alt=\"iris_virginica\" src=\"iris_virginica.jpeg\" style=\"width:200px; height:200px\"></td>\n",
    "  </tr>\n",
    "  <tr>\n",
    "    <td style=\"text-align:center\">iris_setosa</td>\n",
    "    <td style=\"text-align:center\">iris_versicolor</td>\n",
    "    <td style=\"text-align:center\">iris_virginica</td>\n",
    "  </tr>\n",
    "<table>\n",
    "\n",
    "Pour chaque iris étudié, Anderson a mesuré (en cm) :\n",
    "   * la largeur des sépales\n",
    "   * la longueur des sépales\n",
    "   * la largeur des pétales\n",
    "   * la longueur des pétales\n",
    "\n",
    "Par souci de simplification, nous nous intéresserons uniquement à la largeur et à la longueur des pétales.\n",
    "\n",
    "Pour chaque iris mesuré, Anderson a aussi noté l'espèce (\"iris setosa\", \"iris versicolor\" ou \"iris virginica\")\n",
    "\n",
    "Vous trouverez 150 de ces mesures dans le fichier <a href=\"iris.csv\">iris.csv</a>\n",
    "\n",
    "En résumé, vous trouverez dans ce fichier :\n",
    "   * la longueur des pétales\n",
    "   * la largeur des pétales\n",
    "   * l'espèce de l'iris (au lieu d'utiliser les noms des espèces, on utilisera des chiffres : 0 pour \"iris setosa\", 1 pour \"iris versicolor\" et 2 pour \"iris virginica\")"
   ]
  },
  {
   "cell_type": "markdown",
   "metadata": {
    "deletable": false,
    "editable": false,
    "nbgrader": {
     "cell_type": "markdown",
     "checksum": "924d6c26281d16dd9184e91b99e99b21",
     "grade": false,
     "grade_id": "cell-4ada879e48710cc1",
     "locked": true,
     "schema_version": 3,
     "solution": false,
     "task": false
    }
   },
   "source": [
    ">Pour exécuter une cellule, placer le curseur dans la cellule et appuyer sur le bouton <button class=\"btn btn-default\" title=\"Run\"><i class=\"fa-step-forward fa\"></i><span class=\"toolbar-btn-label\">Run</span></button> en haut de l'écran ou sur les touches **`<Maj+Entree>`**.\n",
    "\n",
    "><h3 class='fa fa-cogs' style=\"color: darkorange\"> A faire vous-même </h3>\n",
    ">\n",
    ">Exécuter la cellule ci dessous pour avoir un aperçu du contenu du fichier <a href=\"iris.csv\">iris.csv</a>. Les plus attentifs d'entre vous doivent reconnaître une instruction bash."
   ]
  },
  {
   "cell_type": "code",
   "execution_count": null,
   "metadata": {
    "deletable": false,
    "editable": false,
    "nbgrader": {
     "cell_type": "code",
     "checksum": "5baac895b40a063c90dc0f45ebe44ff4",
     "grade": false,
     "grade_id": "cell-1dd2e018e301c761",
     "locked": true,
     "schema_version": 3,
     "solution": false,
     "task": false
    }
   },
   "outputs": [],
   "source": [
    "cat iris.csv"
   ]
  },
  {
   "cell_type": "markdown",
   "metadata": {
    "deletable": false,
    "editable": false,
    "nbgrader": {
     "cell_type": "markdown",
     "checksum": "2fb4ceab6fe6eb995d2739e00636d4f8",
     "grade": false,
     "grade_id": "cell-babc8c5363f314a5",
     "locked": true,
     "schema_version": 3,
     "solution": false,
     "task": false
    }
   },
   "source": [
    "<h2>Visualisation des données</h2>\n",
    "\n",
    "Avant d'entrer dans le vif du sujet (algorithme knn), nous allons chercher à obtenir une représentation graphique des données contenues dans le fichier <a href=\"iris.csv\">iris.csv</a>."
   ]
  },
  {
   "cell_type": "markdown",
   "metadata": {
    "deletable": false,
    "editable": false,
    "nbgrader": {
     "cell_type": "markdown",
     "checksum": "12245aaf7e8e6609b51304623a1d8c42",
     "grade": false,
     "grade_id": "cell-98cf2b621ef315ae",
     "locked": true,
     "schema_version": 3,
     "solution": false,
     "task": false
    }
   },
   "source": [
    "><h3 class='fa fa-cogs' style=\"color: darkorange\"> A faire vous-même </h3>\n",
    ">\n",
    ">Étudier puis tester (en l'exécutant comme vu plus haut) le code suivant :"
   ]
  },
  {
   "cell_type": "code",
   "execution_count": null,
   "metadata": {
    "deletable": false,
    "editable": false,
    "nbgrader": {
     "cell_type": "code",
     "checksum": "9a71614aefab3890f36f8f5fde56a43c",
     "grade": false,
     "grade_id": "cell-9283e9d15ec4393d",
     "locked": true,
     "schema_version": 3,
     "solution": false,
     "task": false
    }
   },
   "outputs": [],
   "source": [
    "%matplotlib inline\n",
    "import matplotlib.pyplot as plt\n",
    "import numpy as np\n",
    "\n",
    "def lecture(name):\n",
    "    \"\"\"lit le fichier csv dont le nom est passé en paramètre, en renvoie trois tableau contenant \n",
    "    respectivement la longueur et la largeur des pétales, et l'espèce de l'iris.\"\"\"\n",
    "    lst_long = []\n",
    "    lst_larg = []\n",
    "    lst_esp  = []\n",
    "    with open(name) as fic:\n",
    "        fic.readline()  # on ignore la première ligne contenant les titres\n",
    "        for ligne in fic:\n",
    "            long, larg, esp = ligne.split(',')\n",
    "            lst_long.append(float(long))\n",
    "            lst_larg.append(float(larg))\n",
    "            lst_esp.append(int(esp))\n",
    "\n",
    "    # conversion en tableaux numpy plus pratiques à manipuler\n",
    "    return np.array(lst_long), np.array(lst_larg), np.array(lst_esp)\n",
    "\n",
    "def affiche(long, larg, esp):\n",
    "    \"\"\"Représente graphiquement les données.\"\"\"\n",
    "    plt.xlabel(\"longueur\")\n",
    "    plt.ylabel(\"largeur\")\n",
    "    plt.title(\"Classification des iris\")\n",
    "    plt.scatter(long[esp==0], larg[esp==0], color='g', label='setosa')\n",
    "    plt.scatter(long[esp==1], larg[esp==1], color='r', label='versicolor')\n",
    "    plt.scatter(long[esp==2], larg[esp==2], color='b', label='virginica')\n",
    "    plt.legend(loc='best')\n",
    "\n",
    "long, larg, esp = lecture(\"iris.csv\")\n",
    "affiche(long, larg, esp)"
   ]
  },
  {
   "cell_type": "markdown",
   "metadata": {
    "deletable": false,
    "editable": false,
    "nbgrader": {
     "cell_type": "markdown",
     "checksum": "f2bb54ed865998752c4fb6b01406f852",
     "grade": false,
     "grade_id": "cell-a4decc59dc9fbe6f",
     "locked": true,
     "schema_version": 3,
     "solution": false,
     "task": false
    }
   },
   "source": [
    "On remarque qu'on a 3 \"nuages\" de points plus ou moins regroupés par espèce (même si les \"iris versicolor\" et les \"iris virginica\" se mélangent un peu)."
   ]
  },
  {
   "cell_type": "markdown",
   "metadata": {
    "deletable": false,
    "editable": false,
    "nbgrader": {
     "cell_type": "markdown",
     "checksum": "a9fe13941fb969205ee7faab93ec9566",
     "grade": false,
     "grade_id": "cell-871e7f17bea847d5",
     "locked": true,
     "schema_version": 3,
     "solution": false,
     "task": false
    }
   },
   "source": [
    "<h2>La problématique</h2>\n",
    "\n",
    "Imaginez maintenant qu'au cours d'une promenade vous trouviez un iris. N'étant pas un spécialiste, il ne vous est pas vraiment possible de déterminer l'espèce. En revanche, vous êtes capables de mesurer la longueur et la largeur des pétales de cet iris. Imaginons qu'un pétale fasse 2 cm de long et 0,5 cm de large. Ajoutons le point correpondant sur le graphique :"
   ]
  },
  {
   "cell_type": "code",
   "execution_count": null,
   "metadata": {
    "deletable": false,
    "editable": false,
    "nbgrader": {
     "cell_type": "code",
     "checksum": "2670aa15a8138167a4e2754f12d72458",
     "grade": false,
     "grade_id": "cell-daab94a5fd1f7e94",
     "locked": true,
     "schema_version": 3,
     "solution": false,
     "task": false
    }
   },
   "outputs": [],
   "source": [
    "plt.scatter(2, 0.5, color='k')\n",
    "affiche(long, larg, esp)"
   ]
  },
  {
   "cell_type": "markdown",
   "metadata": {
    "deletable": false,
    "editable": false,
    "nbgrader": {
     "cell_type": "markdown",
     "checksum": "e98abee3e1f3025a0b6a5fd2b641895d",
     "grade": false,
     "grade_id": "cell-3c99fe184a14177e",
     "locked": true,
     "schema_version": 3,
     "solution": false,
     "task": false
    }
   },
   "source": [
    "Quelle est à votre avis l'espèce de cet iris ?"
   ]
  },
  {
   "cell_type": "markdown",
   "metadata": {
    "deletable": false,
    "nbgrader": {
     "cell_type": "markdown",
     "checksum": "30e8fefdbe5e4530337cd7e66403cd42",
     "grade": true,
     "grade_id": "cell-f997bc10a090ab33",
     "locked": false,
     "points": 1,
     "schema_version": 3,
     "solution": true,
     "task": false
    }
   },
   "source": [
    "VOTRE REPONSE"
   ]
  },
  {
   "cell_type": "markdown",
   "metadata": {
    "deletable": false,
    "editable": false,
    "nbgrader": {
     "cell_type": "markdown",
     "checksum": "7b71b1c4bc06a7ef11dec420147f3f96",
     "grade": false,
     "grade_id": "cell-7b02c1a4ec4dfd6d",
     "locked": true,
     "schema_version": 3,
     "solution": false,
     "task": false
    }
   },
   "source": [
    "Supposons maintenant que l'iris trouvé a des pétales de 2,4 cm de long et 0,8 cm de large. \n",
    "\n",
    "><h3 class='fa fa-cogs' style=\"color: darkorange\"> A faire vous-même </h3>\n",
    ">\n",
    "> Taper ci-dessous les instructions pour visualiser ce cas."
   ]
  },
  {
   "cell_type": "code",
   "execution_count": null,
   "metadata": {
    "deletable": false,
    "nbgrader": {
     "cell_type": "code",
     "checksum": "6bbf38d34046b5dca942b6f0b5e7c232",
     "grade": true,
     "grade_id": "cell-e05cd65c2bc7857a",
     "locked": false,
     "points": 2,
     "schema_version": 3,
     "solution": true,
     "task": false
    }
   },
   "outputs": [],
   "source": [
    "# TAPEZ VOTRE CODE ICI"
   ]
  },
  {
   "cell_type": "markdown",
   "metadata": {
    "deletable": false,
    "editable": false,
    "nbgrader": {
     "cell_type": "markdown",
     "checksum": "c7d4df0553deab6518123ce9feb1855e",
     "grade": false,
     "grade_id": "cell-f84be05a31af80f2",
     "locked": true,
     "schema_version": 3,
     "solution": false,
     "task": false
    }
   },
   "source": [
    "> L'espèce paraît-elle aussi évidente ?"
   ]
  },
  {
   "cell_type": "markdown",
   "metadata": {
    "deletable": false,
    "nbgrader": {
     "cell_type": "markdown",
     "checksum": "41a6cd7cdf5ef4221632b9c142c6b3a5",
     "grade": true,
     "grade_id": "cell-cc90f4a1ef67d23a",
     "locked": false,
     "points": 1,
     "schema_version": 3,
     "solution": true,
     "task": false
    }
   },
   "source": [
    "VOTRE REPONSE"
   ]
  },
  {
   "cell_type": "markdown",
   "metadata": {
    "deletable": false,
    "editable": false,
    "nbgrader": {
     "cell_type": "markdown",
     "checksum": "b3a582cf9ae7e1e77e9db0d04b50a09a",
     "grade": false,
     "grade_id": "cell-d155e82953a89780",
     "locked": true,
     "schema_version": 3,
     "solution": false,
     "task": false
    }
   },
   "source": [
    "<h2>L'agorithme des $k$ plus proches voisins</h2>\n",
    "\n",
    "Dans ce genre de cas, il peut être intéressant d'utiliser l'algorithme des \"$k$ plus proches voisins\". Cet algorithme consiste à :\n",
    "\n",
    "   * calculer la distance entre notre point (largeur du pétale = 0,8 cm ; longueur du pétale = 2,4 cm) et chaque point issu du jeu de données \"iris\" (à chaque fois c'est un calcul de distance entre 2 points tout ce qu'il y a de plus classique)\n",
    "   * sélectionner uniquement les k distances les plus petites (les k plus proches voisins)\n",
    "   * parmi les k plus proches voisins, déterminer quelle est l'espèce majoritaire. On associe à notre \"iris mystère\" cette \"espèce majoritaire parmi les k plus proches voisins\"\n",
    "\n",
    "Prennons $k = 3$. On obtient le graphique :\n",
    "<img alt=\"3 voisins\" src=\"exemplek3.png\">\n",
    "On constate que parmi les trois plus proches voisins, 2 appartiennent à l'espèce *setosa* alors qu'un seul appartient à l'espèce *versicolor*. On peut donc supposer que l'iris trouvé appartient à l'espèce *setosa*."
   ]
  },
  {
   "cell_type": "markdown",
   "metadata": {
    "deletable": false,
    "editable": false,
    "nbgrader": {
     "cell_type": "markdown",
     "checksum": "6a94f31364db240b6c3354616ca99fb5",
     "grade": false,
     "grade_id": "cell-77dfbef9914f1d5b",
     "locked": true,
     "schema_version": 3,
     "solution": false,
     "task": false
    }
   },
   "source": [
    "<h2>Mise en œuvre</h2>\n",
    "\n",
    "Pour pouvoir mettre l'algorithme en œuvre, on va avoir besoin de plusieurs fonctions. Tout d'abord une fonction prenant en paramètre les coordonnées de deux points et renvoyant la distance entre les deux.\n",
    "\n",
    "Rappel : la distance entre $M(x_1,y_1)$ et $N(x_2,y_2)$ est $MN=\\sqrt{(x_2-x_1)^2+(y_2-y_1)^2}$."
   ]
  },
  {
   "cell_type": "markdown",
   "metadata": {
    "deletable": false,
    "editable": false,
    "nbgrader": {
     "cell_type": "markdown",
     "checksum": "73a28e4512156ed97dfea2a3d7a58b49",
     "grade": false,
     "grade_id": "cell-4f1336ab4ebfd559",
     "locked": true,
     "schema_version": 3,
     "solution": false,
     "task": false
    }
   },
   "source": [
    "><h3 class='fa fa-cogs' style=\"color: darkorange\"> A faire vous-même </h3>\n",
    ">\n",
    "> Compléter la fonction suivante. Pour calculer une racine carrée, vous pouvez utiliser la fonction `np.sqrt`"
   ]
  },
  {
   "cell_type": "code",
   "execution_count": null,
   "metadata": {
    "deletable": false,
    "nbgrader": {
     "cell_type": "code",
     "checksum": "0a3983b5f8e8619644c6b631729d1ae7",
     "grade": false,
     "grade_id": "cell-cef54fec4370046a",
     "locked": false,
     "schema_version": 3,
     "solution": true,
     "task": false
    }
   },
   "outputs": [],
   "source": [
    "def distance(x1, y1, x2, y2):\n",
    "    \"\"\"Renvoie la distance entre les points de coordonnées (x1, y1) et (x2, y2)\"\"\"\n",
    "    # TAPEZ VOTRE CODE ICI"
   ]
  },
  {
   "cell_type": "markdown",
   "metadata": {
    "deletable": false,
    "editable": false,
    "nbgrader": {
     "cell_type": "markdown",
     "checksum": "14f35dc0f2d09227f13a14ee0315071b",
     "grade": false,
     "grade_id": "cell-f9ef178be4bb95be",
     "locked": true,
     "schema_version": 3,
     "solution": false,
     "task": false
    }
   },
   "source": [
    "<h3>Vérifications</h3>\n",
    "\n",
    "La cellule ci-dessous doit s'exécuter sans erreur."
   ]
  },
  {
   "cell_type": "code",
   "execution_count": null,
   "metadata": {
    "deletable": false,
    "editable": false,
    "nbgrader": {
     "cell_type": "code",
     "checksum": "8e3e7d14b0d530fb5734a0cfb16aa439",
     "grade": true,
     "grade_id": "cell-27cf0f8d080ba5ad",
     "locked": true,
     "points": 3,
     "schema_version": 3,
     "solution": false,
     "task": false
    }
   },
   "outputs": [],
   "source": [
    "assert distance(1, 3, 1, 5) == 2.\n",
    "assert distance(7, 1, 4, 5) == 5.\n",
    "assert distance(-5, 3, 7, -2) == 13.\n",
    "assert distance(42, 38, 45, 42) == 5."
   ]
  },
  {
   "cell_type": "markdown",
   "metadata": {
    "deletable": false,
    "editable": false,
    "nbgrader": {
     "cell_type": "markdown",
     "checksum": "f9c68445113cb04de22d654e732ce31d",
     "grade": false,
     "grade_id": "cell-279d2c8f4541123b",
     "locked": true,
     "schema_version": 3,
     "solution": false,
     "task": false
    }
   },
   "source": [
    "Il faut alors calculer la distance entre notre point et chaque point issu du jeu de données. On trie ensuite les points par ordre croissant de distance pour ne garder que  les $k$ points les plus proches. Or, si une liste est constituée de couples, la méthode `sort` trie d'abord en fonction de la première valeur. On peut donc mémoriser des couples (distance, indice du point correspondant) dans une liste, que l'on pourra trier ensuite."
   ]
  },
  {
   "cell_type": "code",
   "execution_count": null,
   "metadata": {
    "deletable": false,
    "editable": false,
    "nbgrader": {
     "cell_type": "code",
     "checksum": "3d0d0d3a2f253aa9f1fce9f23c493b7c",
     "grade": false,
     "grade_id": "cell-25c8c5651a4fa620",
     "locked": true,
     "schema_version": 3,
     "solution": false,
     "task": false
    }
   },
   "outputs": [],
   "source": [
    "def kPlusProches(x0, y0, donnees, k):\n",
    "    \"\"\"Renvoie la liste des indices des k points de la liste donnees les plus proches du point\n",
    "    de corrdonnées (x, y).\n",
    "    donnees doit être une liste de couples de coordonnées\"\"\"\n",
    "    voisins = []  # la liste des indices des k voisins, avec la distance correspondante\n",
    "    if k > len(donnees):  # si on demande plus de voisin qu'il n'y a de points\n",
    "        k = len(donnees)  # on réduit k\n",
    "    for i in range(len(donnees)):\n",
    "        x, y = donnees[i]\n",
    "        d = distance(x0, y0, x, y)\n",
    "        voisins.append((d, i))\n",
    "    voisins.sort()  # Pour un couple, sort trie d'abord en fonction de la première valeur, donc la distance\n",
    "    return [voisins[i][1] for i in range(k)]  # on renvoie les indices des k points les plus proches            "
   ]
  },
  {
   "cell_type": "markdown",
   "metadata": {
    "deletable": false,
    "editable": false,
    "nbgrader": {
     "cell_type": "markdown",
     "checksum": "7f6160d40ec9ba96f860dbaabbb91934",
     "grade": false,
     "grade_id": "cell-bce4e69ec603f0a7",
     "locked": true,
     "schema_version": 3,
     "solution": false,
     "task": false
    }
   },
   "source": [
    "Pour obtenir une liste de couples de coordonnées, on peut utiliser la fonction `zip` qui permet de passer de deux listes de valeurs à une liste de couples. La fonction renvoie cependant un objet de type `zip` qu'il faut convertir en liste pour pouvoir l'utiliser comme on veut :"
   ]
  },
  {
   "cell_type": "code",
   "execution_count": null,
   "metadata": {
    "deletable": false,
    "editable": false,
    "nbgrader": {
     "cell_type": "code",
     "checksum": "a7a4919b761b6251fdf113d8d89d5954",
     "grade": false,
     "grade_id": "cell-015f254218ee6d67",
     "locked": true,
     "schema_version": 3,
     "solution": false,
     "task": false
    }
   },
   "outputs": [],
   "source": [
    "l1 = [1, 2, 3, 4, 5, 6]\n",
    "l2 = [7, 8, 9, 10, 11, 12]\n",
    "list(zip(l1, l2))"
   ]
  },
  {
   "cell_type": "markdown",
   "metadata": {
    "deletable": false,
    "editable": false,
    "nbgrader": {
     "cell_type": "markdown",
     "checksum": "b681b73e3e06e2a4151aa1f730577103",
     "grade": false,
     "grade_id": "cell-3277dd0cb3237a27",
     "locked": true,
     "schema_version": 3,
     "solution": false,
     "task": false
    }
   },
   "source": [
    "><h3 class='fa fa-cogs' style=\"color: darkorange\"> A faire vous-même </h3>\n",
    ">\n",
    "> Créer deux variables `x0` et `y0` pour stocker les coordonnées (2.4, 0.8), une liste `coords` des couples de coordonnées des points du jeu de données, puis déterminer dans une variable `ind` la liste des indices des trois points les plus proches de notre point."
   ]
  },
  {
   "cell_type": "code",
   "execution_count": null,
   "metadata": {
    "deletable": false,
    "nbgrader": {
     "cell_type": "code",
     "checksum": "54102fd0f5e7e1a0128551ef20d50b3c",
     "grade": true,
     "grade_id": "cell-e614e7920df91c55",
     "locked": false,
     "points": 3,
     "schema_version": 3,
     "solution": true,
     "task": false
    }
   },
   "outputs": [],
   "source": [
    "# TAPEZ VOTRE CODE ICI"
   ]
  },
  {
   "cell_type": "markdown",
   "metadata": {
    "deletable": false,
    "editable": false,
    "nbgrader": {
     "cell_type": "markdown",
     "checksum": "ad2c614cd7c8b98c872ca1d810d19a25",
     "grade": false,
     "grade_id": "cell-50618837f0eaf6e9",
     "locked": true,
     "schema_version": 3,
     "solution": false,
     "task": false
    }
   },
   "source": [
    "Vous pouvez tester le résultat en exécutant la cellule suivante :"
   ]
  },
  {
   "cell_type": "code",
   "execution_count": null,
   "metadata": {
    "deletable": false,
    "editable": false,
    "nbgrader": {
     "cell_type": "code",
     "checksum": "145d27fa73511fb823f575f1fc1e2106",
     "grade": false,
     "grade_id": "cell-80173f7a4a2bd365",
     "locked": true,
     "schema_version": 3,
     "solution": false,
     "task": false
    }
   },
   "outputs": [],
   "source": [
    "affiche(long, larg, esp)\n",
    "plt.scatter(x0, y0, color='k')\n",
    "plt.scatter(long[ind], larg[ind], color='k', marker='+')"
   ]
  },
  {
   "cell_type": "markdown",
   "metadata": {
    "deletable": false,
    "editable": false,
    "nbgrader": {
     "cell_type": "markdown",
     "checksum": "39422c36f217a0c3f258577bf036c195",
     "grade": false,
     "grade_id": "cell-f8aa1271bc06a1ab",
     "locked": true,
     "schema_version": 3,
     "solution": false,
     "task": false
    }
   },
   "source": [
    "Il ne reste plus qu'à écrire une fonction qui donne l'espèce majoritaire dans les $k$ plus proches voisins obtenus pour obtenir une classification de notre iris. Pour celà, on va avoir besoin d'une fonction qui renvoie l'**indice** du plus grand élément d'une liste."
   ]
  },
  {
   "cell_type": "markdown",
   "metadata": {
    "deletable": false,
    "editable": false,
    "nbgrader": {
     "cell_type": "markdown",
     "checksum": "245a93f942835825abb772af7ff51264",
     "grade": false,
     "grade_id": "cell-f8aa7373f7a16a1ab",
     "locked": true,
     "schema_version": 3,
     "solution": false,
     "task": false
    }
   },
   "source": [
    "><h3 class='fa fa-cogs' style=\"color: darkorange\"> A faire vous-même </h3>\n",
    ">\n",
    "> Compléter la fonction ci-dessous"
   ]
  },
  {
   "cell_type": "code",
   "execution_count": null,
   "metadata": {
    "deletable": false,
    "nbgrader": {
     "cell_type": "code",
     "checksum": "29014e2fc851b2e2bd8fc6c02c0551de",
     "grade": false,
     "grade_id": "cell-9852039d978d33bc",
     "locked": false,
     "schema_version": 3,
     "solution": true,
     "task": false
    }
   },
   "outputs": [],
   "source": [
    "def indice_max(lst):\n",
    "    \"\"\"Renvoie l'indice du plus grand élément de la liste non vide lst.\"\"\"\n",
    "    # TAPEZ VOTRE CODE ICI"
   ]
  },
  {
   "cell_type": "markdown",
   "metadata": {
    "deletable": false,
    "editable": false,
    "nbgrader": {
     "cell_type": "markdown",
     "checksum": "1ef5d431c2aff70cbb21ba8743744513",
     "grade": false,
     "grade_id": "cell-54929506840fe643",
     "locked": true,
     "schema_version": 3,
     "solution": false,
     "task": false
    }
   },
   "source": [
    "<h3>Vérifications</h3>\n",
    "\n",
    "La cellule ci-dessous doit s'exécuter sans erreur."
   ]
  },
  {
   "cell_type": "code",
   "execution_count": null,
   "metadata": {
    "deletable": false,
    "editable": false,
    "nbgrader": {
     "cell_type": "code",
     "checksum": "6a0cb006ae6029b94ee7a7b34944cb1c",
     "grade": true,
     "grade_id": "cell-b2640500f90972a5",
     "locked": true,
     "points": 3,
     "schema_version": 3,
     "solution": false,
     "task": false
    }
   },
   "outputs": [],
   "source": [
    "assert indice_max([1, 0, 13, 25, 2]) == 3\n",
    "assert indice_max([-1.25, 12.7, 3.5, -18.2]) == 1\n",
    "assert indice_max([42, 10, 13, -4.8]) == 0\n",
    "assert indice_max([3]) == 0"
   ]
  },
  {
   "cell_type": "markdown",
   "metadata": {
    "deletable": false,
    "editable": false,
    "nbgrader": {
     "cell_type": "markdown",
     "checksum": "2992a36d746db2580063b0e58f8d825d",
     "grade": false,
     "grade_id": "cell-eb5ccf7e022dd31a",
     "locked": true,
     "schema_version": 3,
     "solution": false,
     "task": false
    }
   },
   "source": [
    "On peut maintenant écrire la fonction `majoritaire` :"
   ]
  },
  {
   "cell_type": "code",
   "execution_count": null,
   "metadata": {
    "deletable": false,
    "editable": false,
    "nbgrader": {
     "cell_type": "code",
     "checksum": "216ab85b960e108ee7f8f772834b5040",
     "grade": false,
     "grade_id": "cell-73062234d361d0ee",
     "locked": true,
     "schema_version": 3,
     "solution": false,
     "task": false
    }
   },
   "outputs": [],
   "source": [
    "def majoritaire(ind, esp):\n",
    "    \"\"\"Renvoie le numéro d'espèce le plus fréquent parmi celles dont les indices sont dans ind.\"\"\"\n",
    "    nb_esp = [0, 0, 0]  # le nombre d'iris de chaque espèce parmi les voisins\n",
    "    for i in ind:\n",
    "        nb_esp[esp[i]] += 1\n",
    "    return indice_max(nb_esp)"
   ]
  },
  {
   "cell_type": "markdown",
   "metadata": {
    "deletable": false,
    "editable": false,
    "nbgrader": {
     "cell_type": "markdown",
     "checksum": "0f32c739d7882009cba44808db243afe",
     "grade": false,
     "grade_id": "cell-5428b99872a73590",
     "locked": true,
     "schema_version": 3,
     "solution": false,
     "task": false
    }
   },
   "source": [
    "et connaître l'espèce de notre iris :"
   ]
  },
  {
   "cell_type": "code",
   "execution_count": null,
   "metadata": {
    "deletable": false,
    "editable": false,
    "nbgrader": {
     "cell_type": "code",
     "checksum": "349fdddf0b81789f86b75a9e2689df54",
     "grade": false,
     "grade_id": "cell-902d497a3eea7154",
     "locked": true,
     "schema_version": 3,
     "solution": false,
     "task": false
    }
   },
   "outputs": [],
   "source": [
    "majoritaire(ind, esp)"
   ]
  },
  {
   "cell_type": "markdown",
   "metadata": {
    "deletable": false,
    "editable": false,
    "nbgrader": {
     "cell_type": "markdown",
     "checksum": "c1c79ec63c976a6e884faf1e67dcd8cc",
     "grade": false,
     "grade_id": "cell-81760b2b523c6421",
     "locked": true,
     "schema_version": 3,
     "solution": false,
     "task": false
    }
   },
   "source": [
    "><h3 class='fa fa-cogs' style=\"color: darkorange\"> A faire vous-même </h3>\n",
    ">\n",
    "> Tester d'autres coordonnées `x0` et `y0` ou d'autres valeurs de $k$ pour voir l'influence des différents paramètres."
   ]
  },
  {
   "cell_type": "code",
   "execution_count": null,
   "metadata": {
    "deletable": false,
    "editable": false,
    "nbgrader": {
     "cell_type": "code",
     "checksum": "e073e416b399d5d3c797333140b0d823",
     "grade": false,
     "grade_id": "cell-03d37a8c93a0e70f",
     "locked": true,
     "schema_version": 3,
     "solution": false,
     "task": false
    }
   },
   "outputs": [],
   "source": [
    "noms = [\"setosa\", \"versicolor\", \"virginica\"]\n",
    "x0, y0 = 2.4, 0.8\n",
    "k = 3\n",
    "ind = kPlusProches(x0, y0, coords, k)\n",
    "res = majoritaire(ind, esp)\n",
    "affiche(long, larg, esp)\n",
    "plt.scatter(x0, y0, color='cyan')\n",
    "plt.scatter(long[ind], larg[ind], color='cyan', marker='+')\n",
    "plt.text(3, 0.5, f\"longueur : {x0} cm, largeur : {y0} cm\")\n",
    "plt.text(3, 0.3, f\"Résultat pour k = {k} : {noms[res]}.\")"
   ]
  }
 ],
 "metadata": {
  "kernelspec": {
   "display_name": "Python 3",
   "language": "python",
   "name": "python3"
  },
  "language_info": {
   "codemirror_mode": {
    "name": "ipython",
    "version": 3
   },
   "file_extension": ".py",
   "mimetype": "text/x-python",
   "name": "python",
   "nbconvert_exporter": "python",
   "pygments_lexer": "ipython3",
   "version": "3.6.9"
  }
 },
 "nbformat": 4,
 "nbformat_minor": 2
}
